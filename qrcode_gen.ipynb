{
 "cells": [
  {
   "cell_type": "code",
   "execution_count": 1,
   "metadata": {},
   "outputs": [],
   "source": [
    "import qrcode"
   ]
  },
  {
   "cell_type": "code",
   "execution_count": null,
   "metadata": {},
   "outputs": [],
   "source": [
    "qr = qrcode.QRCode(version=1,\n",
    "                   error_correction = qrcode.constants.ERROR_CORRECT_L ,\n",
    "                   box_size =20, \n",
    "                   border=2\n",
    "                   )\n",
    "\n",
    "qr.add_data(\"https://www.youtube.com\")\n",
    "qr.make(fit=True)\n",
    "img= qr.make_image(fill_color='black', back_colr=\"white\")\n",
    "img.save(\"Simple QR Code Generator.png\")"
   ]
  }
 ],
 "metadata": {
  "kernelspec": {
   "display_name": "Python 3",
   "language": "python",
   "name": "python3"
  },
  "language_info": {
   "codemirror_mode": {
    "name": "ipython",
    "version": 3
   },
   "file_extension": ".py",
   "mimetype": "text/x-python",
   "name": "python",
   "nbconvert_exporter": "python",
   "pygments_lexer": "ipython3",
   "version": "3.11.5"
  }
 },
 "nbformat": 4,
 "nbformat_minor": 2
}
